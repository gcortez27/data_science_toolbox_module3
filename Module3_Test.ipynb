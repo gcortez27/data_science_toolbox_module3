{
 "cells": [
  {
   "cell_type": "code",
   "execution_count": 1,
   "id": "ddd83b88-5af2-4294-b70a-52b76f73aba2",
   "metadata": {},
   "outputs": [],
   "source": [
    "# Module 3 Tester"
   ]
  },
  {
   "cell_type": "code",
   "execution_count": null,
   "id": "002ac7b4-4f21-42cf-8221-79520780f17b",
   "metadata": {},
   "outputs": [],
   "source": []
  }
 ],
 "metadata": {
  "kernelspec": {
   "display_name": "",
   "name": ""
  },
  "language_info": {
   "name": ""
  }
 },
 "nbformat": 4,
 "nbformat_minor": 5
}
