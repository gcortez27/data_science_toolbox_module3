{
 "cells": [
  {
   "cell_type": "code",
   "execution_count": 1,
   "id": "ddd83b88-5af2-4294-b70a-52b76f73aba2",
   "metadata": {},
   "outputs": [],
   "source": [
    "# Module 3 Tester"
   ]
  },
  {
   "cell_type": "code",
   "execution_count": null,
   "id": "002ac7b4-4f21-42cf-8221-79520780f17b",
   "metadata": {},
   "outputs": [],
   "source": [
    "# Added few more words for testing"
   ]
  }
 ],
 "metadata": {
  "kernelspec": {
   "display_name": "Python 3 (ipykernel)",
   "language": "python",
   "name": "python3"
  },
  "language_info": {
   "codemirror_mode": {
    "name": "ipython",
    "version": 3
   },
   "file_extension": ".py",
   "mimetype": "text/x-python",
   "name": "python",
   "nbconvert_exporter": "python",
   "pygments_lexer": "ipython3",
   "version": "3.12.3"
  }
 },
 "nbformat": 4,
 "nbformat_minor": 5
}
